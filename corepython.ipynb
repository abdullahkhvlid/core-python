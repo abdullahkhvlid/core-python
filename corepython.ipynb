{
  "nbformat": 4,
  "nbformat_minor": 0,
  "metadata": {
    "colab": {
      "provenance": []
    },
    "kernelspec": {
      "name": "python3",
      "display_name": "Python 3"
    },
    "language_info": {
      "name": "python"
    }
  },
  "cells": [
    {
      "cell_type": "code",
      "execution_count": null,
      "metadata": {
        "id": "l5f-F6E0ahxQ",
        "colab": {
          "base_uri": "https://localhost:8080/"
        },
        "outputId": "5a97e8b1-a818-4d42-d6bf-4702ec0c2af4"
      },
      "outputs": [
        {
          "output_type": "stream",
          "name": "stdout",
          "text": [
            "13\n",
            "4\n",
            "the top 5 most repeated words are[('hello', 2), ('good', 2), ('morning', 2), ('pineapple', 2), ('very', 2)]\n"
          ]
        }
      ],
      "source": [
        "\n",
        "\n",
        "with open(\"myfile.txt\", \"r\") as f:\n",
        "  count = f.readlines()\n",
        "  f.seek(0)\n",
        "  r = f.read()\n",
        "  a = r.split()\n",
        "  print(len(a))\n",
        "  print(len(count))\n",
        "  words= {}\n",
        "  for i in a:\n",
        "    if i in words:\n",
        "      words[i] = words[i] + 1\n",
        "\n",
        "    else:\n",
        "      words[i] = 1\n",
        "\n",
        "  # print(words)\n",
        "  l= list(words.items())\n",
        "  # print(l)\n",
        "  l.sort(key = lambda x: x[1], reverse = True)\n",
        "  top = l[:5]\n",
        "  print(f\"the top 5 most repeated words are{top}\")\n",
        "  with open(\"summary.txt\" ,\"w\") as a:\n",
        "    a.write(f\"the top 5 most repeated words are{top}\")\n",
        "\n"
      ]
    },
    {
      "cell_type": "code",
      "source": [
        "record = [{\"Name\": \"abdullah\", \"score\" : 78, \"age\": 20},\n",
        "          {\"Name\": \"zain\", \"score\" : 56, \"age\": 23},\n",
        "          {\"Name\": \"cara\", \"score\" : 98, \"age\": 49}]\n",
        "\n",
        "record.sort(key = lambda x : x[\"score\"], reverse = True)\n",
        "print(record)\n",
        "record.sort(key = lambda x : x[\"age\"], reverse = False)\n",
        "print(record)\n",
        "record.sort(key= lambda x :x[\"Name\"], reverse = False)\n",
        "print(record)"
      ],
      "metadata": {
        "colab": {
          "base_uri": "https://localhost:8080/"
        },
        "id": "dtMXTRmUg-qf",
        "outputId": "94ba8c3b-9b1b-4c34-86f0-132fc952ac54"
      },
      "execution_count": null,
      "outputs": [
        {
          "output_type": "stream",
          "name": "stdout",
          "text": [
            "[{'Name': 'cara', 'score': 98, 'age': 49}, {'Name': 'abdullah', 'score': 78, 'age': 20}, {'Name': 'zain', 'score': 56, 'age': 23}]\n",
            "[{'Name': 'abdullah', 'score': 78, 'age': 20}, {'Name': 'zain', 'score': 56, 'age': 23}, {'Name': 'cara', 'score': 98, 'age': 49}]\n",
            "[{'Name': 'abdullah', 'score': 78, 'age': 20}, {'Name': 'cara', 'score': 98, 'age': 49}, {'Name': 'zain', 'score': 56, 'age': 23}]\n"
          ]
        }
      ]
    },
    {
      "cell_type": "code",
      "source": [
        "def emailcheck(x):\n",
        "  if \"@\" not in x:\n",
        "    raise ValueError(\"invalid email(no @)\")\n",
        "\n",
        "  if \".\" not in x.split(\"@\")[1]:\n",
        "    raise ValueError(\"invalid email(no '.'.)\")\n",
        "\n",
        "  if len(x.split(\"@\")[1])>=3:\n",
        "    return \"email registered\"\n",
        "\n",
        "  else:\n",
        "    raise ValueError(\"IVE\")\n",
        "\n",
        "emailcheck(\"python@gmail.com\")"
      ],
      "metadata": {
        "colab": {
          "base_uri": "https://localhost:8080/",
          "height": 35
        },
        "id": "S443RnoTEh6p",
        "outputId": "6079bf86-d747-4012-d996-0cd7d2d7140b"
      },
      "execution_count": null,
      "outputs": [
        {
          "output_type": "execute_result",
          "data": {
            "text/plain": [
              "'email registered'"
            ],
            "application/vnd.google.colaboratory.intrinsic+json": {
              "type": "string"
            }
          },
          "metadata": {},
          "execution_count": 9
        }
      ]
    }
  ]
}